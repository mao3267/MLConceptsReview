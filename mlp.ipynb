{
 "cells": [
  {
   "cell_type": "code",
   "execution_count": 1,
   "id": "3ccbf8d3",
   "metadata": {},
   "outputs": [],
   "source": [
    "import torch\n",
    "import torch.nn as nn\n",
    "import numpy as np\n",
    "import torch.nn.functional as F\n",
    "import matplotlib.pyplot as plt"
   ]
  },
  {
   "cell_type": "code",
   "execution_count": 2,
   "id": "27190503-cab4-43f1-ac89-f0d6335bd8b8",
   "metadata": {},
   "outputs": [],
   "source": [
    "with open(\"names.txt\", \"r\") as f:\n",
    "    names = f.read().split(\"\\n\")"
   ]
  },
  {
   "cell_type": "code",
   "execution_count": 5,
   "id": "4d72d944-1cb3-4aff-b7db-710d3de653a0",
   "metadata": {},
   "outputs": [],
   "source": [
    "stoi = {c: idx for c, idx in zip(sorted(list(set(\"\".join(names)))), range(1, 27))}\n",
    "stoi[\".\"] = 0\n",
    "itos = {c: i for i, c in stoi.items()}"
   ]
  },
  {
   "cell_type": "code",
   "execution_count": 42,
   "id": "2c8e9da8-64a8-4f67-bf3f-92da52be6d5c",
   "metadata": {},
   "outputs": [],
   "source": [
    "# build dataset\n",
    "\n",
    "X, Y = [], []\n",
    "\n",
    "block_size = 3\n",
    "for name in names:\n",
    "    context = [0] * block_size\n",
    "    for w in name + \".\":\n",
    "        ix = stoi[w]\n",
    "        X.append(context)\n",
    "        Y.append(ix)\n",
    "        # print(f\"{[itos[i] for i in context]} -> {itos[ix]}\")\n",
    "        context = context[1:] + [ix]\n",
    "\n",
    "X = torch.tensor(X)\n",
    "Y = torch.tensor(Y)"
   ]
  },
  {
   "cell_type": "code",
   "execution_count": 43,
   "id": "d7682389-b699-421a-8523-fe5d2b911173",
   "metadata": {},
   "outputs": [
    {
     "data": {
      "text/plain": [
       "(torch.Size([228146, 3]), torch.Size([228146]))"
      ]
     },
     "execution_count": 43,
     "metadata": {},
     "output_type": "execute_result"
    }
   ],
   "source": [
    "X.shape, Y.shape"
   ]
  },
  {
   "cell_type": "code",
   "execution_count": 44,
   "id": "3169396f-4fb6-401f-a8f2-ba48875b5bbc",
   "metadata": {},
   "outputs": [],
   "source": [
    "g = torch.Generator().manual_seed(2147483647)\n",
    "C = torch.randn((27, 2), requires_grad=True, generator=g)\n",
    "W1 = torch.randn((6, 100), requires_grad=True, generator=g)\n",
    "b1 = torch.randn(100, requires_grad=True, generator=g)\n",
    "W2 = torch.randn((100,27), requires_grad=True, generator=g)\n",
    "b2 = torch.randn(27, requires_grad=True, generator=g)\n",
    "params = [C, W1, b1, W2, b2]"
   ]
  },
  {
   "cell_type": "code",
   "execution_count": 65,
   "id": "a6d0801a-794a-45b0-bea0-0933dd31a9ef",
   "metadata": {},
   "outputs": [
    {
     "name": "stdout",
     "output_type": "stream",
     "text": [
      "loss: 2.826667308807373\n",
      "loss: 2.912942886352539\n",
      "loss: 2.8861660957336426\n",
      "loss: 3.537803888320923\n",
      "loss: 3.755579948425293\n",
      "loss: 3.3454151153564453\n",
      "loss: 2.554062843322754\n",
      "loss: 3.730494976043701\n",
      "loss: 3.039793014526367\n",
      "loss: 3.310731887817383\n"
     ]
    }
   ],
   "source": [
    "n_iter = 10\n",
    "for _ in range(n_iter):\n",
    "    # Mini Batch\n",
    "    ix = torch.randint(0, len(X), (32,)) \n",
    "    \n",
    "    # Forward Pass\n",
    "    emb = C[X[ix]]\n",
    "    h = torch.tanh(emb.view(-1, 6) @ W1 + b1)\n",
    "    logits = h @ W2 + b2\n",
    "    # F.cross_entropy: Avoid intermediate vectors storage\n",
    "    # Better backward pass efficiency\n",
    "    # Avoid overflow for extreme positive values \n",
    "    loss = F.cross_entropy(logits, Y[ix])\n",
    "    print(f\"loss: {loss}\")\n",
    "    for p in params:\n",
    "        p.grad = None\n",
    "    \n",
    "    loss.backward()\n",
    "    for p in params:\n",
    "        p.data = p.data - 0.1 * p.grad\n"
   ]
  },
  {
   "cell_type": "code",
   "execution_count": 40,
   "id": "e09f043c-83fc-45b2-8425-9f7d15561bce",
   "metadata": {},
   "outputs": [
    {
     "data": {
      "text/plain": [
       "tensor([ 34726, 102938, 198036, 172705, 160447,  34541,  48375,  43281,  54324,\n",
       "         65115, 179563,   5511, 104463, 152653,  69899,  56099, 109265, 179036,\n",
       "         80475, 185210,  65294, 217302,  50359,  61409, 134505,  70859,   9209,\n",
       "         64115,  35139,  44922,  88347,  48986])"
      ]
     },
     "execution_count": 40,
     "metadata": {},
     "output_type": "execute_result"
    }
   ],
   "source": [
    "torch.randint(0, len(X), (32,))"
   ]
  }
 ],
 "metadata": {
  "kernelspec": {
   "display_name": "Python 3 (ipykernel)",
   "language": "python",
   "name": "python3"
  },
  "language_info": {
   "codemirror_mode": {
    "name": "ipython",
    "version": 3
   },
   "file_extension": ".py",
   "mimetype": "text/x-python",
   "name": "python",
   "nbconvert_exporter": "python",
   "pygments_lexer": "ipython3",
   "version": "3.13.7"
  }
 },
 "nbformat": 4,
 "nbformat_minor": 5
}
