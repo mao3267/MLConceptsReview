{
 "cells": [
  {
   "cell_type": "code",
   "execution_count": 59,
   "id": "a4ea70b7",
   "metadata": {},
   "outputs": [],
   "source": [
    "# !uv pip install torch torchvision\n",
    "import torch\n",
    "import torch.nn as nn\n",
    "import numpy as np\n",
    "import torch.nn.functional as F"
   ]
  },
  {
   "cell_type": "code",
   "execution_count": 2,
   "id": "c78d2a21",
   "metadata": {},
   "outputs": [],
   "source": [
    "with open(\"names.txt\", \"r\") as f:\n",
    "    names = f.read().split(\"\\n\")"
   ]
  },
  {
   "cell_type": "code",
   "execution_count": 3,
   "id": "f65f0b30-3b56-4ef6-93e1-a005d04d72ab",
   "metadata": {},
   "outputs": [],
   "source": [
    "cnt = {}\n",
    "for name in names[:1]:\n",
    "    name = \".\" + name + \".\"\n",
    "    for c1, c2 in zip(name, name[1:]):\n",
    "        cnt[(c1, c2)] = cnt.get((c1, c2), 0) + 1\n",
    "        # print(c1, c2)\n",
    "\n"
   ]
  },
  {
   "cell_type": "code",
   "execution_count": 8,
   "id": "a1843f0e-6235-447f-a882-233d570acfd6",
   "metadata": {},
   "outputs": [],
   "source": [
    "stoi = {c: idx for c, idx in zip(sorted(list(set(\"\".join(names)))), range(1, 27))}\n",
    "stoi[\".\"] = 0\n",
    "itos = {c: i for i, c in stoi.items()}"
   ]
  },
  {
   "cell_type": "code",
   "execution_count": 20,
   "id": "72dafdda-b8bd-4247-aab2-5cd714b572c9",
   "metadata": {},
   "outputs": [],
   "source": [
    "N = torch.zeros((27, 27), dtype=torch.int32)\n",
    "for name in names:\n",
    "    name = [\".\"] + list(name) + [\".\"]\n",
    "    for c1, c2 in zip(name, name[1:]):\n",
    "        N[stoi[c1]][stoi[c2]] += 1"
   ]
  },
  {
   "cell_type": "code",
   "execution_count": 49,
   "id": "ad2317ff-f62d-4d32-9a19-3ceaa18fdb14",
   "metadata": {},
   "outputs": [],
   "source": [
    "P = (N + 1).float()\n",
    "P = P / P.sum(1, keepdim=True)"
   ]
  },
  {
   "cell_type": "code",
   "execution_count": 51,
   "id": "a5026acf-eee3-427d-a984-32b6d123ee0a",
   "metadata": {},
   "outputs": [],
   "source": [
    "g = torch.Generator().manual_seed(2147483647)\n",
    "\n",
    "out = []\n",
    "ix = 0\n",
    "while True:\n",
    "    p = P[ix]\n",
    "    ix = torch.multinomial(p, num_samples=1, replacement=True, generator=g).item()\n",
    "    out.append(itos[ix])\n",
    "    if ix == 0:\n",
    "        # end token: break\n",
    "        break\n",
    "\n"
   ]
  },
  {
   "cell_type": "code",
   "execution_count": 54,
   "id": "f5d96750-91c0-4afe-a6c2-4cedd988aac2",
   "metadata": {},
   "outputs": [
    {
     "name": "stdout",
     "output_type": "stream",
     "text": [
      "('.', 'v'): prob: 0.0118\n",
      "('v', 'i'): prob: 0.3508\n",
      "('i', 'n'): prob: 0.1200\n",
      "('n', 'c'): prob: 0.0117\n",
      "('c', 'e'): prob: 0.1551\n",
      "('e', 'n'): prob: 0.1309\n",
      "('n', 't'): prob: 0.0242\n",
      "('t', '.'): prob: 0.0865\n",
      "loss: 22.129831314086914\n"
     ]
    }
   ],
   "source": [
    "loglike = 0.0\n",
    "n = 0\n",
    "for name in names:\n",
    "    n += 1\n",
    "    name = [\".\"] + list(name) + [\".\"]\n",
    "    for c1, c2 in zip(name, name[1:]):\n",
    "        id1 = stoi[c1]\n",
    "        id2 = stoi[c2]\n",
    "\n",
    "        prob = P[id1, id2]\n",
    "        logprob = torch.log(prob)\n",
    "        loglike += logprob\n",
    "        print(f\"{c1, c2}: prob: {prob:.4f}\")\n",
    "negloglike = -loglike\n",
    "print(f\"loss: {negloglike / n}\")\n",
    "\n",
    "        "
   ]
  },
  {
   "cell_type": "code",
   "execution_count": 81,
   "id": "5afc33a7-6fa1-45cb-a48b-f614712e2e5c",
   "metadata": {},
   "outputs": [],
   "source": [
    "trainX, trainY = [], []\n",
    "\n",
    "for name in names[:3]:\n",
    "    name = [\".\"] + list(name) + [\".\"]\n",
    "    for c1, c2 in zip(name, name[1:]):\n",
    "        id1 = stoi[c1]\n",
    "        id2 = stoi[c2]\n",
    "        \n",
    "        trainX.append(id1)\n",
    "        trainY.append(id2)\n",
    "\n",
    "trainX = torch.tensor(trainX)\n",
    "trainY = torch.tensor(trainY)"
   ]
  },
  {
   "cell_type": "code",
   "execution_count": 82,
   "id": "24c543c5-96d0-4db5-bdd0-b2c142930001",
   "metadata": {},
   "outputs": [
    {
     "data": {
      "text/plain": [
       "torch.Size([16, 27])"
      ]
     },
     "execution_count": 82,
     "metadata": {},
     "output_type": "execute_result"
    }
   ],
   "source": [
    "trainX = F.one_hot(trainX, num_classes=27).float()\n",
    "trainX.shape"
   ]
  },
  {
   "cell_type": "code",
   "execution_count": 57,
   "id": "48dffa2a-6b77-432d-ae6e-8ece17004678",
   "metadata": {},
   "outputs": [
    {
     "data": {
      "text/plain": [
       "tensor([ 5, 13, 13,  ..., 26, 24,  0])"
      ]
     },
     "execution_count": 57,
     "metadata": {},
     "output_type": "execute_result"
    }
   ],
   "source": [
    "trainY"
   ]
  },
  {
   "cell_type": "code",
   "execution_count": 95,
   "id": "56b320d8-dc6a-4114-b4dd-e461ca32e61e",
   "metadata": {},
   "outputs": [],
   "source": [
    "g = torch.Generator().manual_seed(2147483647)\n",
    "W = torch.randn((27, 27), generator=g, requires_grad=True)"
   ]
  },
  {
   "cell_type": "code",
   "execution_count": 115,
   "id": "59afa2f4-2779-4e45-9c6f-631fddf72e2f",
   "metadata": {},
   "outputs": [],
   "source": [
    "iters = 100\n",
    "for k in range(iters):\n",
    "\n",
    "    logits = trainX @ W\n",
    "    counts = logits.exp()\n",
    "    probs = counts / counts.sum(1, keepdim=True) \n",
    "    loss = -probs[torch.arange(probs.shape[0]), trainY].log().mean()\n",
    "\n",
    "    W.grad = None\n",
    "    loss.backward()\n",
    "\n",
    "    W.data += W.grad * -1\n",
    "    print(loss)"
   ]
  }
 ],
 "metadata": {
  "kernelspec": {
   "display_name": "Python 3 (ipykernel)",
   "language": "python",
   "name": "python3"
  },
  "language_info": {
   "codemirror_mode": {
    "name": "ipython",
    "version": 3
   },
   "file_extension": ".py",
   "mimetype": "text/x-python",
   "name": "python",
   "nbconvert_exporter": "python",
   "pygments_lexer": "ipython3",
   "version": "3.13.7"
  }
 },
 "nbformat": 4,
 "nbformat_minor": 5
}
